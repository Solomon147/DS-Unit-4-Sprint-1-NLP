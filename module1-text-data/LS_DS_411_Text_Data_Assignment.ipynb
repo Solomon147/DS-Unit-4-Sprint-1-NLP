{
 "cells": [
  {
   "cell_type": "markdown",
   "metadata": {},
   "source": [
    "<img align=\"left\" src=\"https://lever-client-logos.s3.amazonaws.com/864372b1-534c-480e-acd5-9711f850815c-1524247202159.png\" width=200>\n",
    "<br></br>\n",
    "<br></br>\n",
    "\n",
    "# Natural Language Processing (NLP)\n",
    "## *Data Science Unit 4 Sprint 1 Assignment 1*\n",
    "\n",
    "Your goal in this assignment: find the attributes of the best & worst coffee shops in the dataset. The text is fairly raw: dates in the review, extra words in the `star_rating` column, etc. You'll probably want to clean that stuff up for a better analysis. \n",
    "\n",
    "Analyze the corpus of text using text visualizations of token frequency. Try cleaning the data as much as possible. Try the following techniques: \n",
    "- Lemmatization\n",
    "- Custom stopword removal\n",
    "\n",
    "Keep in mind the attributes of good tokens. Once you have a solid baseline, layer in the star rating in your visualization(s). Key part of this assignment - produce a write-up of the attributes of the best and worst coffee shops. Based on your analysis, what makes the best the best and the worst the worst. Use graphs and numbesr from your analysis to support your conclusions. There should be plenty of markdown cells! :coffee:"
   ]
  },
  {
   "cell_type": "code",
   "execution_count": 66,
   "metadata": {},
   "outputs": [
    {
     "data": {
      "image/jpeg": "[encoded data removed]",
      "text/html": [
       "\n",
       "        <iframe\n",
       "            width=\"400\"\n",
       "            height=\"300\"\n",
       "            src=\"https://www.youtube.com/embed/Jml7NVYm8cs\"\n",
       "            frameborder=\"0\"\n",
       "            allowfullscreen\n",
       "        ></iframe>\n",
       "        "
      ],
      "text/plain": [
       "<IPython.lib.display.YouTubeVideo at 0x188356f60>"
      ]
     },
     "execution_count": 66,
     "metadata": {},
     "output_type": "execute_result"
    }
   ],
   "source": [
    "from IPython.display import YouTubeVideo\n",
    "\n",
    "YouTubeVideo('Jml7NVYm8cs')"
   ]
  },
  {
   "cell_type": "code",
   "execution_count": 67,
   "metadata": {},
   "outputs": [
    {
     "data": {
      "text/plain": [
       "'/Users/hotstuff/Documents/DS-Unit-4-Sprint-1-NLP/module1-text-data'"
      ]
     },
     "execution_count": 67,
     "metadata": {},
     "output_type": "execute_result"
    }
   ],
   "source": [
    "%pwd"
   ]
  },
  {
   "cell_type": "code",
   "execution_count": 68,
   "metadata": {},
   "outputs": [
    {
     "data": {
      "text/html": [
       "<div>\n",
       "<style scoped>\n",
       "    .dataframe tbody tr th:only-of-type {\n",
       "        vertical-align: middle;\n",
       "    }\n",
       "\n",
       "    .dataframe tbody tr th {\n",
       "        vertical-align: top;\n",
       "    }\n",
       "\n",
       "    .dataframe thead th {\n",
       "        text-align: right;\n",
       "    }\n",
       "</style>\n",
       "<table border=\"1\" class=\"dataframe\">\n",
       "  <thead>\n",
       "    <tr style=\"text-align: right;\">\n",
       "      <th></th>\n",
       "      <th>coffee_shop_name</th>\n",
       "      <th>full_review_text</th>\n",
       "      <th>star_rating</th>\n",
       "    </tr>\n",
       "  </thead>\n",
       "  <tbody>\n",
       "    <tr>\n",
       "      <th>0</th>\n",
       "      <td>The Factory - Cafe With a Soul</td>\n",
       "      <td>11/25/2016 1 check-in Love love loved the atm...</td>\n",
       "      <td>5.0 star rating</td>\n",
       "    </tr>\n",
       "    <tr>\n",
       "      <th>1</th>\n",
       "      <td>The Factory - Cafe With a Soul</td>\n",
       "      <td>12/2/2016 Listed in Date Night: Austin, Ambia...</td>\n",
       "      <td>4.0 star rating</td>\n",
       "    </tr>\n",
       "    <tr>\n",
       "      <th>2</th>\n",
       "      <td>The Factory - Cafe With a Soul</td>\n",
       "      <td>11/30/2016 1 check-in Listed in Brunch Spots ...</td>\n",
       "      <td>4.0 star rating</td>\n",
       "    </tr>\n",
       "    <tr>\n",
       "      <th>3</th>\n",
       "      <td>The Factory - Cafe With a Soul</td>\n",
       "      <td>11/25/2016 Very cool decor! Good drinks Nice ...</td>\n",
       "      <td>2.0 star rating</td>\n",
       "    </tr>\n",
       "    <tr>\n",
       "      <th>4</th>\n",
       "      <td>The Factory - Cafe With a Soul</td>\n",
       "      <td>12/3/2016 1 check-in They are located within ...</td>\n",
       "      <td>4.0 star rating</td>\n",
       "    </tr>\n",
       "  </tbody>\n",
       "</table>\n",
       "</div>"
      ],
      "text/plain": [
       "                  coffee_shop_name  \\\n",
       "0  The Factory - Cafe With a Soul    \n",
       "1  The Factory - Cafe With a Soul    \n",
       "2  The Factory - Cafe With a Soul    \n",
       "3  The Factory - Cafe With a Soul    \n",
       "4  The Factory - Cafe With a Soul    \n",
       "\n",
       "                                    full_review_text        star_rating  \n",
       "0   11/25/2016 1 check-in Love love loved the atm...   5.0 star rating   \n",
       "1   12/2/2016 Listed in Date Night: Austin, Ambia...   4.0 star rating   \n",
       "2   11/30/2016 1 check-in Listed in Brunch Spots ...   4.0 star rating   \n",
       "3   11/25/2016 Very cool decor! Good drinks Nice ...   2.0 star rating   \n",
       "4   12/3/2016 1 check-in They are located within ...   4.0 star rating   "
      ]
     },
     "execution_count": 68,
     "metadata": {},
     "output_type": "execute_result"
    }
   ],
   "source": [
    "import pandas as pd\n",
    "\n",
    "url = \"https://raw.githubusercontent.com/LambdaSchool/DS-Unit-4-Sprint-1-NLP/master/module1-text-data/data/yelp_coffeeshop_review_data.csv\"\n",
    "\n",
    "shops = pd.read_csv(url)\n",
    "shops.head()"
   ]
  },
  {
   "cell_type": "code",
   "execution_count": 31,
   "metadata": {},
   "outputs": [
    {
     "data": {
      "text/plain": [
       "' 5.0 star rating '"
      ]
     },
     "execution_count": 31,
     "metadata": {},
     "output_type": "execute_result"
    }
   ],
   "source": [
    "shops['star_rating'][0]"
   ]
  },
  {
   "cell_type": "code",
   "execution_count": 69,
   "metadata": {},
   "outputs": [
    {
     "data": {
      "text/html": [
       "<div>\n",
       "<style scoped>\n",
       "    .dataframe tbody tr th:only-of-type {\n",
       "        vertical-align: middle;\n",
       "    }\n",
       "\n",
       "    .dataframe tbody tr th {\n",
       "        vertical-align: top;\n",
       "    }\n",
       "\n",
       "    .dataframe thead th {\n",
       "        text-align: right;\n",
       "    }\n",
       "</style>\n",
       "<table border=\"1\" class=\"dataframe\">\n",
       "  <thead>\n",
       "    <tr style=\"text-align: right;\">\n",
       "      <th></th>\n",
       "      <th>coffee_shop_name</th>\n",
       "      <th>full_review_text</th>\n",
       "      <th>star_rating</th>\n",
       "    </tr>\n",
       "  </thead>\n",
       "  <tbody>\n",
       "    <tr>\n",
       "      <th>0</th>\n",
       "      <td>the factory - cafe with a soul</td>\n",
       "      <td>11/25/2016 1 check-in love love loved the atm...</td>\n",
       "      <td>5.0 star rating</td>\n",
       "    </tr>\n",
       "    <tr>\n",
       "      <th>1</th>\n",
       "      <td>the factory - cafe with a soul</td>\n",
       "      <td>12/2/2016 listed in date night: austin, ambia...</td>\n",
       "      <td>4.0 star rating</td>\n",
       "    </tr>\n",
       "    <tr>\n",
       "      <th>2</th>\n",
       "      <td>the factory - cafe with a soul</td>\n",
       "      <td>11/30/2016 1 check-in listed in brunch spots ...</td>\n",
       "      <td>4.0 star rating</td>\n",
       "    </tr>\n",
       "    <tr>\n",
       "      <th>3</th>\n",
       "      <td>the factory - cafe with a soul</td>\n",
       "      <td>11/25/2016 very cool decor! good drinks nice ...</td>\n",
       "      <td>2.0 star rating</td>\n",
       "    </tr>\n",
       "    <tr>\n",
       "      <th>4</th>\n",
       "      <td>the factory - cafe with a soul</td>\n",
       "      <td>12/3/2016 1 check-in they are located within ...</td>\n",
       "      <td>4.0 star rating</td>\n",
       "    </tr>\n",
       "  </tbody>\n",
       "</table>\n",
       "</div>"
      ],
      "text/plain": [
       "                  coffee_shop_name  \\\n",
       "0  the factory - cafe with a soul    \n",
       "1  the factory - cafe with a soul    \n",
       "2  the factory - cafe with a soul    \n",
       "3  the factory - cafe with a soul    \n",
       "4  the factory - cafe with a soul    \n",
       "\n",
       "                                    full_review_text        star_rating  \n",
       "0   11/25/2016 1 check-in love love loved the atm...   5.0 star rating   \n",
       "1   12/2/2016 listed in date night: austin, ambia...   4.0 star rating   \n",
       "2   11/30/2016 1 check-in listed in brunch spots ...   4.0 star rating   \n",
       "3   11/25/2016 very cool decor! good drinks nice ...   2.0 star rating   \n",
       "4   12/3/2016 1 check-in they are located within ...   4.0 star rating   "
      ]
     },
     "execution_count": 69,
     "metadata": {},
     "output_type": "execute_result"
    }
   ],
   "source": [
    "# Start here \n",
    "shops['coffee_shop_name'] = shops['coffee_shop_name'].apply(lambda x:x.lower())\n",
    "shops['full_review_text'] = shops['full_review_text'].apply(lambda x:x.lower())\n",
    "shops.head()"
   ]
  },
  {
   "cell_type": "code",
   "execution_count": 70,
   "metadata": {},
   "outputs": [
    {
     "data": {
      "text/html": [
       "<div>\n",
       "<style scoped>\n",
       "    .dataframe tbody tr th:only-of-type {\n",
       "        vertical-align: middle;\n",
       "    }\n",
       "\n",
       "    .dataframe tbody tr th {\n",
       "        vertical-align: top;\n",
       "    }\n",
       "\n",
       "    .dataframe thead th {\n",
       "        text-align: right;\n",
       "    }\n",
       "</style>\n",
       "<table border=\"1\" class=\"dataframe\">\n",
       "  <thead>\n",
       "    <tr style=\"text-align: right;\">\n",
       "      <th></th>\n",
       "      <th>0</th>\n",
       "      <th>1</th>\n",
       "      <th>2</th>\n",
       "      <th>3</th>\n",
       "      <th>4</th>\n",
       "    </tr>\n",
       "  </thead>\n",
       "  <tbody>\n",
       "    <tr>\n",
       "      <th>0</th>\n",
       "      <td>11</td>\n",
       "      <td>25</td>\n",
       "      <td>2016 1 check-in love love loved the atmosphere...</td>\n",
       "      <td>None</td>\n",
       "      <td>None</td>\n",
       "    </tr>\n",
       "    <tr>\n",
       "      <th>1</th>\n",
       "      <td>12</td>\n",
       "      <td>2</td>\n",
       "      <td>2016 listed in date night: austin, ambiance in...</td>\n",
       "      <td>None</td>\n",
       "      <td>None</td>\n",
       "    </tr>\n",
       "    <tr>\n",
       "      <th>2</th>\n",
       "      <td>11</td>\n",
       "      <td>30</td>\n",
       "      <td>2016 1 check-in listed in brunch spots i loved...</td>\n",
       "      <td>None</td>\n",
       "      <td>None</td>\n",
       "    </tr>\n",
       "    <tr>\n",
       "      <th>3</th>\n",
       "      <td>11</td>\n",
       "      <td>25</td>\n",
       "      <td>2016 very cool decor! good drinks nice seating...</td>\n",
       "      <td>None</td>\n",
       "      <td>None</td>\n",
       "    </tr>\n",
       "    <tr>\n",
       "      <th>4</th>\n",
       "      <td>12</td>\n",
       "      <td>3</td>\n",
       "      <td>2016 1 check-in they are located within the no...</td>\n",
       "      <td>None</td>\n",
       "      <td>None</td>\n",
       "    </tr>\n",
       "  </tbody>\n",
       "</table>\n",
       "</div>"
      ],
      "text/plain": [
       "     0   1                                                  2     3     4\n",
       "0   11  25  2016 1 check-in love love loved the atmosphere...  None  None\n",
       "1   12   2  2016 listed in date night: austin, ambiance in...  None  None\n",
       "2   11  30  2016 1 check-in listed in brunch spots i loved...  None  None\n",
       "3   11  25  2016 very cool decor! good drinks nice seating...  None  None\n",
       "4   12   3  2016 1 check-in they are located within the no...  None  None"
      ]
     },
     "execution_count": 70,
     "metadata": {},
     "output_type": "execute_result"
    }
   ],
   "source": [
    "reviews = shops['full_review_text'].str.split(\"/\", n=4, expand=True)\n",
    "reviews.head()"
   ]
  },
  {
   "cell_type": "code",
   "execution_count": 71,
   "metadata": {},
   "outputs": [
    {
     "data": {
      "text/html": [
       "<div>\n",
       "<style scoped>\n",
       "    .dataframe tbody tr th:only-of-type {\n",
       "        vertical-align: middle;\n",
       "    }\n",
       "\n",
       "    .dataframe tbody tr th {\n",
       "        vertical-align: top;\n",
       "    }\n",
       "\n",
       "    .dataframe thead th {\n",
       "        text-align: right;\n",
       "    }\n",
       "</style>\n",
       "<table border=\"1\" class=\"dataframe\">\n",
       "  <thead>\n",
       "    <tr style=\"text-align: right;\">\n",
       "      <th></th>\n",
       "      <th>0</th>\n",
       "      <th>1</th>\n",
       "      <th>2</th>\n",
       "    </tr>\n",
       "  </thead>\n",
       "  <tbody>\n",
       "    <tr>\n",
       "      <th>0</th>\n",
       "      <td>11/25/</td>\n",
       "      <td>1 check-in love love loved the atmosphere! ev...</td>\n",
       "      <td>None</td>\n",
       "    </tr>\n",
       "    <tr>\n",
       "      <th>1</th>\n",
       "      <td>12/2/</td>\n",
       "      <td>listed in date night: austin, ambiance in aus...</td>\n",
       "      <td>None</td>\n",
       "    </tr>\n",
       "    <tr>\n",
       "      <th>2</th>\n",
       "      <td>11/30/</td>\n",
       "      <td>1 check-in listed in brunch spots i loved the...</td>\n",
       "      <td>None</td>\n",
       "    </tr>\n",
       "    <tr>\n",
       "      <th>3</th>\n",
       "      <td>11/25/</td>\n",
       "      <td>very cool decor! good drinks nice seating  ho...</td>\n",
       "      <td>None</td>\n",
       "    </tr>\n",
       "    <tr>\n",
       "      <th>4</th>\n",
       "      <td>12/3/</td>\n",
       "      <td>1 check-in they are located within the northc...</td>\n",
       "      <td>None</td>\n",
       "    </tr>\n",
       "  </tbody>\n",
       "</table>\n",
       "</div>"
      ],
      "text/plain": [
       "         0                                                  1     2\n",
       "0   11/25/   1 check-in love love loved the atmosphere! ev...  None\n",
       "1    12/2/   listed in date night: austin, ambiance in aus...  None\n",
       "2   11/30/   1 check-in listed in brunch spots i loved the...  None\n",
       "3   11/25/   very cool decor! good drinks nice seating  ho...  None\n",
       "4    12/3/   1 check-in they are located within the northc...  None"
      ]
     },
     "execution_count": 71,
     "metadata": {},
     "output_type": "execute_result"
    }
   ],
   "source": [
    "reviews=shops['full_review_text'].str.split(\"2016\", n=4, expand=True)\n",
    "reviews.head()"
   ]
  },
  {
   "cell_type": "code",
   "execution_count": 72,
   "metadata": {},
   "outputs": [
    {
     "data": {
      "text/html": [
       "<div>\n",
       "<style scoped>\n",
       "    .dataframe tbody tr th:only-of-type {\n",
       "        vertical-align: middle;\n",
       "    }\n",
       "\n",
       "    .dataframe tbody tr th {\n",
       "        vertical-align: top;\n",
       "    }\n",
       "\n",
       "    .dataframe thead th {\n",
       "        text-align: right;\n",
       "    }\n",
       "</style>\n",
       "<table border=\"1\" class=\"dataframe\">\n",
       "  <thead>\n",
       "    <tr style=\"text-align: right;\">\n",
       "      <th></th>\n",
       "      <th>coffee_shop_name</th>\n",
       "      <th>full_review_text</th>\n",
       "      <th>star_rating</th>\n",
       "    </tr>\n",
       "  </thead>\n",
       "  <tbody>\n",
       "    <tr>\n",
       "      <th>0</th>\n",
       "      <td>the factory - cafe with a soul</td>\n",
       "      <td>1 check-in love love loved the atmosphere! ev...</td>\n",
       "      <td>5.0 star rating</td>\n",
       "    </tr>\n",
       "    <tr>\n",
       "      <th>1</th>\n",
       "      <td>the factory - cafe with a soul</td>\n",
       "      <td>listed in date night: austin, ambiance in aus...</td>\n",
       "      <td>4.0 star rating</td>\n",
       "    </tr>\n",
       "    <tr>\n",
       "      <th>2</th>\n",
       "      <td>the factory - cafe with a soul</td>\n",
       "      <td>1 check-in listed in brunch spots i loved the...</td>\n",
       "      <td>4.0 star rating</td>\n",
       "    </tr>\n",
       "    <tr>\n",
       "      <th>3</th>\n",
       "      <td>the factory - cafe with a soul</td>\n",
       "      <td>very cool decor! good drinks nice seating  ho...</td>\n",
       "      <td>2.0 star rating</td>\n",
       "    </tr>\n",
       "    <tr>\n",
       "      <th>4</th>\n",
       "      <td>the factory - cafe with a soul</td>\n",
       "      <td>1 check-in they are located within the northc...</td>\n",
       "      <td>4.0 star rating</td>\n",
       "    </tr>\n",
       "  </tbody>\n",
       "</table>\n",
       "</div>"
      ],
      "text/plain": [
       "                  coffee_shop_name  \\\n",
       "0  the factory - cafe with a soul    \n",
       "1  the factory - cafe with a soul    \n",
       "2  the factory - cafe with a soul    \n",
       "3  the factory - cafe with a soul    \n",
       "4  the factory - cafe with a soul    \n",
       "\n",
       "                                    full_review_text        star_rating  \n",
       "0   1 check-in love love loved the atmosphere! ev...   5.0 star rating   \n",
       "1   listed in date night: austin, ambiance in aus...   4.0 star rating   \n",
       "2   1 check-in listed in brunch spots i loved the...   4.0 star rating   \n",
       "3   very cool decor! good drinks nice seating  ho...   2.0 star rating   \n",
       "4   1 check-in they are located within the northc...   4.0 star rating   "
      ]
     },
     "execution_count": 72,
     "metadata": {},
     "output_type": "execute_result"
    }
   ],
   "source": [
    "shops['full_review_text']=reviews[1]\n",
    "shops.head()"
   ]
  },
  {
   "cell_type": "code",
   "execution_count": 73,
   "metadata": {},
   "outputs": [
    {
     "data": {
      "text/plain": [
       " 5.0 star rating     0.496324\n",
       " 4.0 star rating     0.309874\n",
       " 3.0 star rating     0.096901\n",
       " 2.0 star rating     0.060399\n",
       " 1.0 star rating     0.036502\n",
       "Name: star_rating, dtype: float64"
      ]
     },
     "execution_count": 73,
     "metadata": {},
     "output_type": "execute_result"
    }
   ],
   "source": [
    "shops['star_rating'].value_counts(normalize=True)[:50]"
   ]
  },
  {
   "cell_type": "code",
   "execution_count": 74,
   "metadata": {},
   "outputs": [],
   "source": [
    "\"\"\"\n",
    "Import Statements\n",
    "\"\"\"\n",
    "\n",
    "# Base\n",
    "from collections import Counter\n",
    "import re\n",
    " \n",
    "import pandas as pd\n",
    "\n",
    "# Plotting\n",
    "import squarify\n",
    "import matplotlib.pyplot as plt\n",
    "import seaborn as sns\n",
    "\n",
    "# NLP Libraries\n",
    "import spacy\n",
    "from spacy.tokenizer import Tokenizer\n",
    "from nltk.stem import PorterStemmer\n",
    "\n",
    "nlp = spacy.load(\"en_core_web_lg\")\n",
    "\n",
    "# Tokenizer\n",
    "tokenizer = Tokenizer(nlp.vocab)"
   ]
  },
  {
   "cell_type": "code",
   "execution_count": 54,
   "metadata": {},
   "outputs": [],
   "source": [
    "def tokenize(text):\n",
    "    \"\"\"Parses a string into a list of semantic unites (words)\n",
    "    \n",
    "    Args:\n",
    "        text (str): The string that functions will tokenize.\n",
    "        \n",
    "    Returns:\n",
    "           list: tokens parsed out by the mechanics of your choice\n",
    "    \"\"\"\n",
    "    tokens = re.sub(r'[^a-zA-Z ^0-9]', '', str(text))\n",
    "    tokens = tokens.lower().split()\n",
    "    \n",
    "    return tokens"
   ]
  },
  {
   "cell_type": "code",
   "execution_count": 75,
   "metadata": {},
   "outputs": [],
   "source": [
    "shops['tokens'] = shops['full_review_text'].apply(tokenize)"
   ]
  },
  {
   "cell_type": "code",
   "execution_count": 76,
   "metadata": {},
   "outputs": [
    {
     "data": {
      "text/plain": [
       "0    [1, checkin, love, love, loved, the, atmospher...\n",
       "1    [listed, in, date, night, austin, ambiance, in...\n",
       "2    [1, checkin, listed, in, brunch, spots, i, lov...\n",
       "3    [very, cool, decor, good, drinks, nice, seatin...\n",
       "4    [1, checkin, they, are, located, within, the, ...\n",
       "Name: tokens, dtype: object"
      ]
     },
     "execution_count": 76,
     "metadata": {},
     "output_type": "execute_result"
    }
   ],
   "source": [
    "shops['tokens'].head()"
   ]
  },
  {
   "cell_type": "code",
   "execution_count": null,
   "metadata": {},
   "outputs": [],
   "source": [
    "## How do we want to analyze these coffee shop tokens? \n",
    "\n",
    "- Overall Word / Token Count\n",
    "- View Counts by Rating \n",
    "- *Hint:* a 'bad' coffee shops has a rating betweeen 1 & 3 based on the distribution of ratings. A 'good' coffee shop is a 4 or 5. "
   ]
  },
  {
   "cell_type": "code",
   "execution_count": 77,
   "metadata": {},
   "outputs": [
    {
     "data": {
      "text/plain": [
       "[('the', 16460),\n",
       " ('and', 12725),\n",
       " ('a', 10225),\n",
       " ('i', 9181),\n",
       " ('to', 7945),\n",
       " ('of', 5626),\n",
       " ('is', 5591),\n",
       " ('was', 4930),\n",
       " ('it', 4526),\n",
       " ('coffee', 4513)]"
      ]
     },
     "execution_count": 77,
     "metadata": {},
     "output_type": "execute_result"
    }
   ],
   "source": [
    "# Object from Base Python\n",
    "from collections import Counter\n",
    "\n",
    "# The object `Counter` takes an iterable, but you can instaniate an empty one and update it. \n",
    "word_counts = Counter()\n",
    "\n",
    "# Update it based on a split of each of our documents\n",
    "shops['tokens'].apply(lambda x: word_counts.update(x))\n",
    "\n",
    "# Print out the 10 most common words\n",
    "word_counts.most_common(10)"
   ]
  },
  {
   "cell_type": "code",
   "execution_count": 78,
   "metadata": {},
   "outputs": [
    {
     "data": {
      "text/plain": [
       " 1 check-in listed in                                                                                                                                                                                                                                                                                                                                                                                                                                                                                                                                                                                                                                                                                                                                                                                                                                                                                                                                                                                                                                                                                                                                                                                                                                                                                                                                                                                                                                                                                                                                                                                                                                                                                                                                                                                                                                                                                                         0.002808\n",
       " listed in yelp 100 challenge                                                                                                                                                                                                                                                                                                                                                                                                                                                                                                                                                                                                                                                                                                                                                                                                                                                                                                                                                                                                                                                                                                                                                                                                                                                                                                                                                                                                                                                                                                                                                                                                                                                                                                                                                                                                                                                                                                 0.001531\n",
       " 1 check-in listed in yelp 100 challenge                                                                                                                                                                                                                                                                                                                                                                                                                                                                                                                                                                                                                                                                                                                                                                                                                                                                                                                                                                                                                                                                                                                                                                                                                                                                                                                                                                                                                                                                                                                                                                                                                                                                                                                                                                                                                                                                                      0.001531\n",
       " first time checking this place out first time. pretty swag. nice assortment of drinks. i got the 15 minutes of fame. also got the poptart. delicious!  next time i'll try the marymount monroe. will definitely come back soon.                                                                                                                                                                                                                                                                                                                                                                                                                                                                                                                                                                                                                                                                                                                                                                                                                                                                                                                                                                                                                                                                                                                                                                                                                                                                                                                                                                                                                                                                                                                                                                                                                                                                                              0.001021\n",
       " love the factory. good coffee, tasty chicken and waffles and awesome atmosphere. definitely recommend the nutella waffle.                                                                                                                                                                                                                                                                                                                                                                                                                                                                                                                                                                                                                                                                                                                                                                                                                                                                                                                                                                                                                                                                                                                                                                                                                                                                                                                                                                                                                                                                                                                                                                                                                                                                                                                                                                                                    0.001021\n",
       " this place is so cute. new favorite coffee spot on burnet/in northcross. almost wish i was still in grad school,  so i would have an excuse to be there everyday.  amazing coffee and best chicken & waffles ever! the chicken was seasoned perfectly and made for a delicious savory brunch (with the house made slaw they give you on the side). the olive oil cake was also awesome, light and sweet. perfect coffee companion. my husband and i will definitely be back, as we loved everything and felt it was all very reasonable priced. olive oil cake, chicken & waffle and 15-minutes-of-fame coffee! so good.                                                                                                                                                                                                                                                                                                                                                                                                                                                                                                                                                                                                                                                                                                                                                                                                                                                                                                                                                                                                                                                                                                                                                                                                                                                                                                     0.001021\n",
       " my only complaint and desire and heart wish is for this place to be open longer and to allow for wifi. this place makes my heart happy, it motivates me to study because i want to come here, and it makes me wish i had time to settle and read a wonderful book. the atmosphere is perfect, the workers are generous and kind, it's a beautiful place to be.                                                                                                                                                                                                                                                                                                                                                                                                                                                                                                                                                                                                                                                                                                                                                                                                                                                                                                                                                                                                                                                                                                                                                                                                                                                                                                                                                                                                                                                                                                                                                               0.001021\n",
       " 1 check-in checked out the factory this past sunday with my husband. we wanted to try their delicious looking waffles and were definitely not disappointed.  husband ordered an iced coffee drink that was delicious, but it wasn't as good as my golden age of milk tea, well worth the 10 minute wait for the tea to steep.  we both ordered the nutella waffle and it was perfect. from the wood plate with the amazing paper liner printed with a famous person and an inspirational quote from them. i wanted just the paper because it was so cute and well done. the waffle is basically half a waffle, spread with nutella and a layer of bananas, then folded in half. while small, it was a perfect amount, the bananas balancing out the sweetness of the nutella. the waffle itself was crisp perfection, providing a crunch to the meal. the menu is very limited: there was the nutella waffle and a fried chicken waffle. i'm hoping they'll eventually serve other waffles, but totally respect their decision to start small.  the space is gorgeous. from the swings to the mural above the bar, everything looks meticulously planned out. and here is where my biggest advice comes: this place is really not for kids. the way the seating is set up is really for larger people and there is definitely no place for high chairs. while there is giant magnetic poetry on one of the columns, a crazy chair outside and a couple of table games, the giant chess set looks risky for grabby kids. if you have a well-behaved child who can handle it, i would think its fine. however, i watched several families come in and either leave or order to go, commenting it wasn't the best space for them. while this doesn't bother me (i love kidless spaces), it might be jarring to someone expecting to have brunch with the family.  i am so excited to become a regular here! great new spot!     0.001021\n",
       " tried this new cafe spot on burnet with a friend - unassuming storefront, the decor is quaint af and you have to order from ipads at the counter and then choose a place to sit.  not a brunch spot as we had thought, just a cafe with a couple of food options. the nutella waffles we got were on point - there's also a chicken option.  the cold brew coffee was fantastic and my friend's milk tea turned out great too.  good spot for conversations. only knocking down a star for the limited options. i hope they add more items to the menu! milk tea - humongous!! nutella banana waffles love the illustrations! see all photos from ramya b. for the factory - cafe with a soul                                                                                                                                                                                                                                                                                                                                                                                                                                                                                                                                                                                                                                                                                                                                                                                                                                                                                                                                                                                                                                                                                                                                                                                                                                0.001021\n",
       " 1 check-in listed in americano this is not your average cute study spot cafe.  location/ atmosphere: + easy parking at the lot + cute and classy interior decor! + plenty of seats available (couches, swings, high chairs, etc) + games like chess & tic tac toe available - no sign of outlets/ charging port on the walls - no wifi available - not a study cafe unless you have all your papers printed out and don't need the internet  service: o you order by yourself using an ipad up at the counter. + there are 3 ipads available making lines go by faster. + you can request them to text you upon your order being ready + when i told one of the baristas that the fork bin was empty, he kindly brought it over to our table along with a couple of knives! - there was no option to make drinks half sweetened/ less ice on the ipad screen :\"(  food/ prices: + highly recommend the matcha latte (it was thick and made to perfection!) + the chicken and waffle was well seasoned! + aesthetically super cute - i didn't enjoy the milk tea as much (it was way too sweet for me and had a super unique taste to it.) - snack size portions, $$ price tag of a meal - the sides of corn/ coleslaw came out in a tiny cup - it was ~$7 for a cup of milk tea and ~$8 for the snack sized chicken and waffle - we were still pretty hungry after and even considered driving over to tarka for some real food.  i'd come here again to socialize (when i'm less busy with schoolwork) but really only for the matcha latte & the classy atmosphere. if you haven't had lunch/ dinner, don't come here to fill your tummy up :\"o matcha latte, chicken & waffle, nutella waffle, and hot milk tea matcha latte, chicken & waffle, nutella waffle, and hot milk tea                                                                                                                                          0.001021\n",
       " 1 check-in note: do not come here if you're looking for a place to work remotely! there is no wifi and no outlets. staff says they are hoping to create an environment where people socialize and enjoy each other's company rather than being on their phones.  for a spot to catch up with friends over coffee and pastries, i highly recommend coming here! there is ample seating, an open layout, and a lot to look at  and talk about including wooden swings, books and a chess board on a table, and a cute corner of pillows in another corner.  they serve coffee drinks, waffles, and pastries. the pop tart was extremely sweet, so much so that i was unable to finish even half. their cortado was pretty good. the food and drinks are quite pricey here, which makes me question returning.  presentation and ambience wise, i give this place 5 stars! but price and food, probably a 3.                                                                                                                                                                                                                                                                                                                                                                                                                                                                                                                                                                                                                                                                                                                                                                                                                                                                                                                                                                                                                    0.001021\n",
       " 1 check-in came in on the first day of opening, hours currently 6am-2pm. at some point they'll stay open till 12 midnight. i think this might be the most beautiful cafe in austin, the interior is charming, snazzy, cozy. there's even a pair of swings to sit on while you enjoy your coffee and play a game of chess. i ordered the marymint monroe, basically a mint mojito. it's been a while since i've been to philz coffee so it's hard to compare, but i think the marymint is a little creamier. also had the banana nutella waffle, bananas and nutella are always a winning combination, can't go wrong there. no wifi yet but i'm sure it will come soon. friendly staff, delicious offerings, antique filament lightbulbs and best of all, bieber and mj high above on a mural watching over you. this place is aces. golden age of milk tea see all photos from khang h. for the factory - cafe with a soul                                                                                                                                                                                                                                                                                                                                                                                                                                                                                                                                                                                                                                                                                                                                                                                                                                                                                                                                                                                                  0.001021\n",
       " the greeting of an atmosphere it feels i created. this place speaks to my free spirited soul, with matcha lattes, swings inside that still fit in, pillows, and waffles. this might be the next artist home where computers aren't encouraged by the architecture, but books, talking and chess are. matcha latte with lactose free milk and house book                                                                                                                                                                                                                                                                                                                                                                                                                                                                                                                                                                                                                                                                                                                                                                                                                                                                                                                                                                                                                                                                                                                                                                                                                                                                                                                                                                                                                                                                                                                                                                      0.001021\n",
       " 2 check-ins love this place!  5 stars for cleanliness 5 stars for fun ambiance/ open space 5 stars for ample seating and comfort 5 stars for convenient parking 5 stars for attentive employees and fast service  i am definitely a fan cafe w/ a soul. i finally found a coffee shop i can study at without sacrificing comfort (starbucks' uncomfortable chairs). the coffee shop endorses social connection, hence, wifi  isn't available. it makes me really happy that a lot of students hang out here with their book bags and laptops and we can all just study in peace and somehow quiet (the background music can get pretty loud). unfortunately, there will always be that kid who's obnoxiously loud and would like the whole world to know her business. seriously, unless it's something intriguing or educational, no one cares. in addition, as much \"fun\" as this place looks, it's not child friendly. so parents, make sure your children do not hit the table in front of it and knock out the chess set. lastly, the sex images in the bathrooms are definitely not appropriate for children.  the ambiance is very much like austin-- very eccentric and hip! food and drink presentations are on par. drink prices are reasonable and similar to good ole starbucks. but unlike you're typical coffee shop, they have real food such as chicken and waffles.  my favorite about this place is the cleanliness. the employees do a good job maintaining the place. also, as i watch them make coffees, they do it with fines as if they're creating some type of art, it's pretty cool (in my opinion).  in conclusion, cafe w/ a soul is probably the best coffee shop i've ever been to. it's like studying in my own home but away from distractions. i'm awake! bathroom decor see all photos from jay t. for the factory - cafe with a soul                                                      0.001021\n",
       " really cute and heavily hipster atmosphere. we tried this place late night on saturday and enjoyed the first visit. you will want to try their swing for sure. seating space is somewhat limited and no wifi is available, so be aware. this is more like a place for you to enjoy its atmosphere. drinks were good, though make sure you have enough in your bank account because their drinks are probably not for broke college students. that swing!                                                                                                                                                                                                                                                                                                                                                                                                                                                                                                                                                                                                                                                                                                                                                                                                                                                                                                                                                                                                                                                                                                                                                                                                                                                                                                                                                                                                                                                                     0.001021\n",
       " okay, so after visiting my friends in la and trying a mint mojito iced coffee, i had to find one in austin that's comparable. it was getting very difficult to find one to begin with, let alone a good one. i saw the mint coffee on the factory's website and had to try it. unfortunately i was shell-shocked at the price tag ($7 if i remember correctly??)  i figured it would be a large drink and particularly fabulous and hopefully large to make up for the over the top price (this is $3 more than philz)   was it particularly fabulous? no. it was good, it wasn't as good as philz. was it bigger?? no. it was about 4 ounces of  coffee, tops. will i be back? absolutely not, especially considering i can get a 20 oz mint mojito coffee from tea haus for $3 less that tastes just as good.  this place is also self service (for ordering and pick up), why that would lead to inflated prices and not a price decrease is far beyond my understanding. i don't recommend it.                                                                                                                                                                                                                                                                                                                                                                                                                                                                                                                                                                                                                                                                                                                                                                                                                                                                                                                           0.001021\n",
       " 1 check-in i really enjoyed my visit here. i ordered the cortado and chicken waffle. both were excellent.  the space is very instagram worthy.  awesome mural. staff was very friendly too and i loved the ipad ordering system. chicken waffle and cortado paired with sparkling water to cleanse the palate                                                                                                                                                                                                                                                                                                                                                                                                                                                                                                                                                                                                                                                                                                                                                                                                                                                                                                                                                                                                                                                                                                                                                                                                                                                                                                                                                                                                                                                                                                                                                                                                                0.001021\n",
       " this place is really nice. they have done a great job... it's the type of place that you could spend hours in. they have a small menu right now, but their drinks, waffles, and pastries are really well made. we'll definitely be coming back soon.... like tomorrow. viva matcha latte and pop-art                                                                                                                                                                                                                                                                                                                                                                                                                                                                                                                                                                                                                                                                                                                                                                                                                                                                                                                                                                                                                                                                                                                                                                                                                                                                                                                                                                                                                                                                                                                                                                                                                         0.001021\n",
       " the factory is gonna be my new coffee spot. no words can describe the amazing atmosphere upon walking in. comfortable seating, hip music, great interior finishes and table games. the intuitive ipad ordering system was quite fascinating as well with its ease of use. great service and tastes great! great job!                                                                                                                                                                                                                                                                                                                                                                                                                                                                                                                                                                                                                                                                                                                                                                                                                                                                                                                                                                                                                                                                                                                                                                                                                                                                                                                                                                                                                                                                                                                                                                                                         0.001021\n",
       " 2 check-ins listed in \"nuptial coffee bliss!\", anderson lane is the new black oh hey, the pro vs con format. i've never used that before. let's try it:  pros: 1. this place is cooler than i thought. 2. it's open until 2am. no, really. 3. they have beer & wine. i didn't know that until i saw the beer taps. they offered me a sample.  cons: 1. if you have to describe the factory with one word, it probably won't be \"inexpensive.\"  i don't think they're shooting for the \"sixth coffeehouse on anderson lane but with flash\" title here, i think they really want to be the official bistro in the neighborhood - far more casual than bartlett or hopdoddy, but with a lot more flair than tea haus or starbuck evenings. staying open until 2am is a good start, and let's see if they add more to the menu. remember, no one thought that gentrified walmart would do well either.  in the meantime, have fun with those chicken & waffles, and their colorful matcha-infused coffees. i'm only interested in straight black, and their pourover stumptown is great stuff. try the $5 pop tart at least once, mainly because you can. and then let's meet back here in a couple of weeks, just to see what's been tweaked. this place defines hipster man-cave. i liked the long table with 1/2 bar chairs & stools, & the cool plates & cups. there's a $5 pop tart.                                                                                                                                                                                                                                                                                                                                                                                                                                                                                                                                        0.001021\n",
       " 1 check-in ok, let's try this approach...  pros: music seating decor general ambiance service  cons: ipad ordering (i'm a crotchety old man, kids) limited coffee menu, or menu in general relatively expensive food is pretty but lackluster  i'm still sitting here as i type this and i'm less than overjoyed with the experience, sadly. the space and vibe are great but not quite familiar or intimate enough to beat out a place like genuine joe down the street. it seems like they bank on the vibe, and fall short the rest of the way. (this would be a great hangout for the artsy/design crowd having a collaborative meeting.)  the staff is great but the ipad ordering system limits your required interaction with them. they take pride in no wifi to increase interaction but then use ipads instead of people?  seating is ample, if cramped in a surprisingly large space.  but the food, kids. so pretty, but again lackluster. i tried the pop+art ($5) and the nutella waffle ($4.75) and they both sit on their respective tiny awkward plates half eaten. (yes the plate liners are cute) the waffle is a great idea but the waffle itself  has no flavor and there's no delight. the tart is similar - the pastry crust is much too thick compared to the smuckers jam tasting filling and it is essentially just pure sugar. the pastry itself doesn't even taste buttery or crisp. meh. there appears to be no soul in this confectionary.  coffee- passable. but at $4 for a cortado and a $1.50 up-charge for almond milk- i'll pick another place.  i get why the reviews are so good here, but there are much better places nearby for that \"cafe with a soul\" feel. this feels like an acl pop-up. going for that?  great, come here. pop+art and cortado emailed receipt and satisfaction survey. see all photos from kimberlee a. for the factory - cafe with a soul                    0.001021\n",
       " amazing atmosphere! i walked around for 5 minutes looking at everything before even ordering.  most unique take on chicken and waffles i've ever had. hands down best night time hangout in north austin. p.s.... their matcha latte is to die for!                                                                                                                                                                                                                                                                                                                                                                                                                                                                                                                                                                                                                                                                                                                                                                                                                                                                                                                                                                                                                                                                                                                                                                                                                                                                                                                                                                                                                                                                                                                                                                                                                                                                          0.001021\n",
       " i never write yelp reviews, ever. but when i walked in here it felt like i was in a hipster alice in wonderland. the decor is spot on and they left no details out. the marymint monroe is really amazing and the chicken and waffle is really good. the staff is so wonderful too, you could tell they really love what they're doing. the swings are a nice touch too!                                                                                                                                                                                                                                                                                                                                                                                                                                                                                                                                                                                                                                                                                                                                                                                                                                                                                                                                                                                                                                                                                                                                                                                                                                                                                                                                                                                                                                                                                                                                                     0.001021\n",
       " very cool decor! good drinks nice seating  however...  just about everything is overpriced. $1.50 extra for 3 ounces of almond milk in a cortado. no wifi music is a bit loud and the mix is odd.  pleasant french oldies followed by loud techno. several tables were dirty when we got there. service is average.  it feels like a los angeles coffee shot that is out of place.                                                                                                                                                                                                                                                                                                                                                                                                                                                                                                                                                                                                                                                                                                                                                                                                                                                                                                                                                                                                                                                                                                                                                                                                                                                                                                                                                                                                                                                                                                                                           0.001021\n",
       " i was so pleasantly surprised by this place! i only went because i had time to kill and they were the only coffee shop nearby open until 2 am. but i'm so glad i tried it out. it's not your typical austin coffee shop. the quality of the drinks here was top notch, and they offer unique food and drinks. i had the macha latte (i think that's what it was called) and it was fantastic! the people were so friendly, the decor was beautiful, with plenty of comfortable seating (including swings from the ceiling!), and it was just the perfect place to chill with friends. i'll definitely be coming back!                                                                                                                                                                                                                                                                                                                                                                                                                                                                                                                                                                                                                                                                                                                                                                                                                                                                                                                                                                                                                                                                                                                                                                                                                                                                                                        0.001021\n",
       " this place is amazing! no wifi, but that's fine. it's meant to be a place to hang out with friends, socialize or by yourself reading a good book!                                                                                                                                                                                                                                                                                                                                                                                                                                                                                                                                                                                                                                                                                                                                                                                                                                                                                                                                                                                                                                                                                                                                                                                                                                                                                                                                                                                                                                                                                                                                                                                                                                                                                                                                                                            0.001021\n",
       " great coffee, food and atmosphere! love the set-up. order on an ipad and they call your name out when your food is ready.                                                                                                                                                                                                                                                                                                                                                                                                                                                                                                                                                                                                                                                                                                                                                                                                                                                                                                                                                                                                                                                                                                                                                                                                                                                                                                                                                                                                                                                                                                                                                                                                                                                                                                                                                                                                    0.001021\n",
       " this is such a cute little cafe! i've driven by this place many times and hadn't noticed it until today. glad i stopped-the famous chicken waffle was delish!                                                                                                                                                                                                                                                                                                                                                                                                                                                                                                                                                                                                                                                                                                                                                                                                                                                                                                                                                                                                                                                                                                                                                                                                                                                                                                                                                                                                                                                                                                                                                                                                                                                                                                                                                                0.001021\n",
       " so much aesthetic in this place. i love every corner of this coffee shop. the only downside is there's no wifi. their matcha latte is to die for! see all photos from rojean s. for the factory - cafe with a soul                                                                                                                                                                                                                                                                                                                                                                                                                                                                                                                                                                                                                                                                                                                                                                                                                                                                                                                                                                                                                                                                                                                                                                                                                                                                                                                                                                                                                                                                                                                                                                                                                                                                                                           0.001021\n",
       " craft coffee drinks, tea, and beer/wine. friendly staff, good music and nice atmosphere complete with with a few rope swings from he ceiling. and let's not forget the amazing waffles!! nice place to chill with friends.                                                                                                                                                                                                                                                                                                                                                                                                                                                                                                                                                                                                                                                                                                                                                                                                                                                                                                                                                                                                                                                                                                                                                                                                                                                                                                                                                                                                                                                                                                                                                                                                                                                                                                   0.001021\n",
       " listed in date night: austin, ambiance in austin beautiful!!!! love the ambiance! instagram-worthy!!!  definitely $$$, so be prepared. this is gonna cost you a pretty penny :) waffle dessert was just decent...nothing to rave about.  but, will probably be back just to be somewhere unique and nice.                                                                                                                                                                                                                                                                                                                                                                                                                                                                                                                                                                                                                                                                                                                                                                                                                                                                                                                                                                                                                                                                                                                                                                                                                                                                                                                                                                                                                                                                                                                                                                                                                    0.001021\n",
       " the matcha lattes are amazing! great atmosphere, great food and drink, and everything is plated beautifully. the kind of place where you can tell the employees take pride in their work. i'll definitely be back often.                                                                                                                                                                                                                                                                                                                                                                                                                                                                                                                                                                                                                                                                                                                                                                                                                                                                                                                                                                                                                                                                                                                                                                                                                                                                                                                                                                                                                                                                                                                                                                                                                                                                                                     0.001021\n",
       " a cafe that doesn't have wifi but makes you order from an ipad. seriously? $2 extra for almond milk?! the latte was already $5 for 12 oz. don't expect to have a lot of vegan customers. there's a serious lack of customer service for the  overpriced food and beverages.  you order from an ipad, and they call out your drink. there is no interaction between the customer and employee, and they still expect a tip? this cafe also advertises that they have games. there are two games, chess and tick tax toe. it is a beautiful cafe, with very cool furnishings. however i wont be going back.                                                                                                                                                                                                                                                                                                                                                                                                                                                                                                                                                                                                                                                                                                                                                                                                                                                                                                                                                                                                                                                                                                                                                                                                                                                                                                                    0.001021\n",
       " enthusiastic and earnest desire to be excellent, try new things and develop new menu ideas, smiles, not in your face - best almond pound cake i've ever had (worth the 5 stars alone), and a fantastic cup of red rooibos iced tea.  next to hanabi.  fantastic new spot.                                                                                                                                                                                                                                                                                                                                                                                                                                                                                                                                                                                                                                                                                                                                                                                                                                                                                                                                                                                                                                                                                                                                                                                                                                                                                                                                                                                                                                                                                                                                                                                                                                                    0.001021\n",
       " 1 check-in listed in in search of fantastic coffee so, i really didn't want to write this review. i didn't want to tell anyone how awesome the factory - cafe with a soul is because i don't want it overrun and super busy with no place to sit like so many other decent coffee shops in austin. i happened to come in here with a friend mid-week and we sat here for several hours, enjoying the peace and quiet, the atmosphere, and the awesome coffee.  this place is a little eclectic - lots of peculiar art, books, games, knick-knacks, and an almost head-scratching drink and food menu. waffles and pop tarts...and beer? and... coffee mojitos? well, it works. whatever is going on here, it works fabulously. they serve stumptown coffee, which as someone from the northwest, i totally appreciate. they also brew coffee correctly. there is not a hint of bitterness or overcooked milk going on here. the ipad ordering screens are mostly cool, (although they need more options for customization) and the million different types of seating, (couches, pillows, swings, big chairs, little chairs, bar seating, regular tables) is both delightful and refreshing. the baristas make foam art - something that i have only seen at houndstooth here in austin. hanging out here was a wonderful experience - this is a five star establishment, the best coffee house i've been to in austin, and i will be back - time and time again. double espresso with tonic water. beautiful macha a beary lovely mocha!                                                                                                                                                                                                                                                                                                                                                                                    0.001021\n",
       " 1 check-in marymint monroe  + chicken and waffles samich = my favorite cafe in austin.  ... ohhh and decor is pretty sweet too                                                                                                                                                                                                                                                                                                                                                                                                                                                                                                                                                                                                                                                                                                                                                                                                                                                                                                                                                                                                                                                                                                                                                                                                                                                                                                                                                                                                                                                                                                                                                                                                                                                                                                                                                                                               0.001021\n",
       " honestly, this place is having an identity crisis. not a great place for a date or to meet a friend - very cute decor (props to the designer), but music is a bit all over the place, and for the price i would go somewhere else. not really a family place, at least not for all families since bathrooms have framed art of sexual positions. lights get turned down around 9pm (but they stay open till 2), so if you wanted to stop by to get a bit of reading done, you're out of luck. it is also not a beer/coffee lounge like thunderbird. menu is very limited, and if you were in the mood for a treat, i'd recommend quacks. if they wanted to expand the menu, ipad ordering would have to go.  which is sad since it's very cute, and we need more chill places to hang out in the evenings away from the university area.  matcha was good. i hope the owners will rethink their direction. would i come back? eeh, too many other treats to entice my attention.                                                                                                                                                                                                                                                                                                                                                                                                                                                                                                                                                                                                                                                                                                                                                                                                                                                                                                                                             0.001021\n",
       " i got waffle wasted at the factory!!! not your average coffee shop! super social without wifi, novel idea!                                                                                                                                                                                                                                                                                                                                                                                                                                                                                                                                                                                                                                                                                                                                                                                                                                                                                                                                                                                                                                                                                                                                                                                                                                                                                                                                                                                                                                                                                                                                                                                                                                                                                                                                                                                                                   0.001021\n",
       " the cafe is beautiful, the coffee was fantastic and very well presented, and the food was delicious. must try!                                                                                                                                                                                                                                                                                                                                                                                                                                                                                                                                                                                                                                                                                                                                                                                                                                                                                                                                                                                                                                                                                                                                                                                                                                                                                                                                                                                                                                                                                                                                                                                                                                                                                                                                                                                                               0.001021\n",
       " 7 check-ins the factory cafe is overall such a beautiful and really cool place to just hang out with friends or work on homework. you'll probably see the people around you taking the time to perfect their aesthetic instagram pictures and snapchat stories (myself included). although the cafe itself doesn't provide wifi, it's within range of other places with wifi so that shouldn't deter you from going! this place looks like it literally came straight off of pinterest! so cute!                                                                                                                                                                                                                                                                                                                                                                                                                                                                                                                                                                                                                                                                                                                                                                                                                                                                                                                                                                                                                                                                                                                                                                                                                                                                                                                                                                                                                             0.001021\n",
       " 1 check-in very cute cafe! i think from the moment i stepped in, there really wasn't anything i didn't find cute at the factory. from their decor to their cups, everything was really cute. it's really the perfect place for a catching up with friends or a coffee date.  when you go order, there's really the least amount of interaction ever with the workers. you just pick your order on an ipad and they'll call your order out after for you to pick up at the counter. the whole thing's pretty novel honestly. i got the viva matcha latte and it was so good! perfect amount of sweetness and perfect temperature. i went on a cold night and this cafe is just so cozy, it was such a great combination. they have these swings as well which were pretty fun to sit on honestly.  prices are what i would expect for a cafe like this, not super cheap, but not too pricey. there's no wifi here, so if you want to study, maybe this isn't the right place. but overall, very nice atmosphere! viva matcha latte and cortado                                                                                                                                                                                                                                                                                                                                                                                                                                                                                                                                                                                                                                                                                                                                                                                                                                                                                0.001021\n",
       " 1 check-in check out this video for a review! youtube.com/watch?v=n8ki…  cool new place in austin! it's always great to see places doing something new and unique. the seating arrangements and atmosphere are definitely fun. one thing is that there's no internet, so don't plan on coming here to get stuff done!  you get to order on an ipad! yay.  pros: - the drink choices are really great. you can get something that you want. you can even get beer here. - great for pictures and enjoying some time off. sit on a swing ... while playing chase. - parking is plentiful in the plaza area. - friendly baristas  cons: - food menu isn't too big, but that's okay. not gluten free for the wife. - very pricey. if you need a place to come on a weekly basis, you're going to need to be a balla.                                                                                                                                                                                                                                                                                                                                                                                                                                                                                                                                                                                                                                                                                                                                                                                                                                                                                                                                                                                                                                                                                                             0.001021\n",
       " the store has a+ decoration, but honestly, the coffee it made is not as good as other coffee shop in the surrounding area. it has no wifi, so good for hang out with friend or read a book. not sure why there is no restroom here. ordering app is well made, but probably won't be my coffee stop because of the quality of food/coffee. it's selling you the atmosphere they created, so don't expected the food/coffee. probably would be a good date spot. 8 dollar tiny chicken and waffle. one of the most expensive chicken and waffle.                                                                                                                                                                                                                                                                                                                                                                                                                                                                                                                                                                                                                                                                                                                                                                                                                                                                                                                                                                                                                                                                                                                                                                                                                                                                                                                                                                              0.001021\n",
       " 1 check-in super cute place for lounging and chatting up with a friend. the chicken and waffle was delicious. chicken was cooked to perfection! super moist chicken with fluffy waffle...more of a snack than a meal, so don't go here expecting to be filled with a meal.                                                                                                                                                                                                                                                                                                                                                                                                                                                                                                                                                                                                                                                                                                                                                                                                                                                                                                                                                                                                                                                                                                                                                                                                                                                                                                                                                                                                                                                                                                                                                                                                                                                   0.001021\n",
       " 3 check-ins this place has been shown on my social media for days so i finally visited! one of the cutest and artistic looking coffeeshops i have ever visited. you can self order which is nice because you can take your time and look at the pictures to help you decide! i especially liked how pictures were shown so i knew which coffee/tea came out aesthetically  i ordered the famous matcha green latte and i dont usually drink coffee but it went beyond my expectations. they give you a good amount and its creamy and sweet. only downside is no wifi.. so hard to study here. matcha green tea and living la vida mocha matcha green tea latte interior design see all photos from sarah l. for the factory - cafe with a soul                                                                                                                                                                                                                                                                                                                                                                                                                                                                                                                                                                                                                                                                                                                                                                                                                                                                                                                                                                                                                                                                                                                                                                              0.001021\n",
       " 1 check-in my best friend and i came to the factory after seeing it on a couple of best new austin brunch lists. it's super cute and trendy, to the point where it feels kind of out of place in a strip mall. although i loved the interior design and general ambiance of the place, i was a little disappointed with the menu. this is more of a coffee shop than a cafe - their food options are pretty limited. my friend ordered the chicken and waffles and i ordered nutella waffles with strawberries and bananas. for the price i paid, the portions were definitely on the smaller side. i enjoyed my meal still, but it's hard to mess up nutella and fruit, so i wasn't particularly impressed. i would love to come back to study sometime but since they don't have wifi, i don't think it'll be likely.                                                                                                                                                                                                                                                                                                                                                                                                                                                                                                                                                                                                                                                                                                                                                                                                                                                                                                                                                                                                                                                                                                      0.001021\n",
       " first to review the factory is awesome! what a great spot! i had the chicken and waffles (new take, but i now have cravings for them!), the homemade poptart was so fun and such a delight. in terms of beverages got the drink with the chicory in it (i'm a big chicory fan) and it was perfect!                                                                                                                                                                                                                                                                                                                                                                                                                                                                                                                                                                                                                                                                                                                                                                                                                                                                                                                                                                                                                                                                                                                                                                                                                                                                                                                                                                                                                                                                                                                                                                                                                           0.001021\n",
       " cute, eclectic furniture and lots of things to do! gorgeous seating vignettes, lots of space, classy decor. only thing to watch out for--no wifi...not really a place to do work or study, but great place to chill! my friends and i (6 of us total) found space to play a board game, and had a blast!                                                                                                                                                                                                                                                                                                                                                                                                                                                                                                                                                                                                                                                                                                                                                                                                                                                                                                                                                                                                                                                                                                                                                                                                                                                                                                                                                                                                                                                                                                                                                                                                                     0.001021\n",
       " 1 check-in they are located within the northcross mall shopping center facing east toward burnet rd with plenty of parking. i loved their computerized user friendly ordering system, it made it easy me to pick & choose all the items i wanted to try. i ordered pop tart, chicken & waffles, strawberry waffles (photos uploaded). this place is ideal for ordering a few dishes to share with your group. seating is limited since this place is fairly new with lots of visitors. arrive early and be prepared to wait a bit if you with a large grop. store front facing burnet rd see all photos from michelle a. for the factory - cafe with a soul                                                                                                                                                                                                                                                                                                                                                                                                                                                                                                                                                                                                                                                                                                                                                                                                                                                                                                                                                                                                                                                                                                                                                                                                                                                                  0.001021\n",
       " 1 check-in this place is fantastic! ideal place for grabbing a frothy matcha latte and a chicken & waffle. a bit different in the way that you order. definitely a nice hang-out for millenials or anyone who works in the area and is on a lunch break. wifi is within reach but they don't have it themselves.                                                                                                                                                                                                                                                                                                                                                                                                                                                                                                                                                                                                                                                                                                                                                                                                                                                                                                                                                                                                                                                                                                                                                                                                                                                                                                                                                                                                                                                                                                                                                                                                             0.001021\n",
       "Name: full_review_text, dtype: float64"
      ]
     },
     "execution_count": 78,
     "metadata": {},
     "output_type": "execute_result"
    }
   ],
   "source": [
    "#counting the raw text\n",
    "shops['full_review_text'].value_counts(normalize=True)[:50]"
   ]
  },
  {
   "cell_type": "code",
   "execution_count": 79,
   "metadata": {},
   "outputs": [],
   "source": [
    "def count(docs):\n",
    "\n",
    "        word_counts = Counter()\n",
    "        appears_in = Counter()\n",
    "        \n",
    "        total_docs = len(docs)\n",
    "\n",
    "        for doc in docs:\n",
    "            word_counts.update(doc)\n",
    "            appears_in.update(set(doc))\n",
    "\n",
    "        temp = zip(word_counts.keys(), word_counts.values())\n",
    "        \n",
    "        wc = pd.DataFrame(temp, columns = ['word', 'count'])\n",
    "\n",
    "        wc['rank'] = wc['count'].rank(method='first', ascending=False)\n",
    "        total = wc['count'].sum()\n",
    "\n",
    "        wc['pct_total'] = wc['count'].apply(lambda x: x / total)\n",
    "        \n",
    "        wc = wc.sort_values(by='rank')\n",
    "        wc['cul_pct_total'] = wc['pct_total'].cumsum()\n",
    "\n",
    "        t2 = zip(appears_in.keys(), appears_in.values())\n",
    "        ac = pd.DataFrame(t2, columns=['word', 'appears_in'])\n",
    "        wc = ac.merge(wc, on='word')\n",
    "\n",
    "        wc['appears_in_pct'] = wc['appears_in'].apply(lambda x: x / total_docs)\n",
    "        \n",
    "        return wc.sort_values(by='rank')"
   ]
  },
  {
   "cell_type": "code",
   "execution_count": 80,
   "metadata": {},
   "outputs": [],
   "source": [
    "# Use the Function\n",
    "wc = count(shops['tokens'])"
   ]
  },
  {
   "cell_type": "code",
   "execution_count": 81,
   "metadata": {},
   "outputs": [
    {
     "data": {
      "text/html": [
       "<div>\n",
       "<style scoped>\n",
       "    .dataframe tbody tr th:only-of-type {\n",
       "        vertical-align: middle;\n",
       "    }\n",
       "\n",
       "    .dataframe tbody tr th {\n",
       "        vertical-align: top;\n",
       "    }\n",
       "\n",
       "    .dataframe thead th {\n",
       "        text-align: right;\n",
       "    }\n",
       "</style>\n",
       "<table border=\"1\" class=\"dataframe\">\n",
       "  <thead>\n",
       "    <tr style=\"text-align: right;\">\n",
       "      <th></th>\n",
       "      <th>word</th>\n",
       "      <th>appears_in</th>\n",
       "      <th>count</th>\n",
       "      <th>rank</th>\n",
       "      <th>pct_total</th>\n",
       "      <th>cul_pct_total</th>\n",
       "      <th>appears_in_pct</th>\n",
       "    </tr>\n",
       "  </thead>\n",
       "  <tbody>\n",
       "    <tr>\n",
       "      <th>59</th>\n",
       "      <td>the</td>\n",
       "      <td>3449</td>\n",
       "      <td>16460</td>\n",
       "      <td>1.0</td>\n",
       "      <td>0.045564</td>\n",
       "      <td>0.045564</td>\n",
       "      <td>0.452862</td>\n",
       "    </tr>\n",
       "    <tr>\n",
       "      <th>17</th>\n",
       "      <td>and</td>\n",
       "      <td>3452</td>\n",
       "      <td>12725</td>\n",
       "      <td>2.0</td>\n",
       "      <td>0.035225</td>\n",
       "      <td>0.080789</td>\n",
       "      <td>0.453256</td>\n",
       "    </tr>\n",
       "    <tr>\n",
       "      <th>9</th>\n",
       "      <td>a</td>\n",
       "      <td>3046</td>\n",
       "      <td>10225</td>\n",
       "      <td>3.0</td>\n",
       "      <td>0.028304</td>\n",
       "      <td>0.109093</td>\n",
       "      <td>0.399947</td>\n",
       "    </tr>\n",
       "    <tr>\n",
       "      <th>3</th>\n",
       "      <td>i</td>\n",
       "      <td>2668</td>\n",
       "      <td>9181</td>\n",
       "      <td>4.0</td>\n",
       "      <td>0.025415</td>\n",
       "      <td>0.134508</td>\n",
       "      <td>0.350315</td>\n",
       "    </tr>\n",
       "    <tr>\n",
       "      <th>10</th>\n",
       "      <td>to</td>\n",
       "      <td>2789</td>\n",
       "      <td>7945</td>\n",
       "      <td>5.0</td>\n",
       "      <td>0.021993</td>\n",
       "      <td>0.156501</td>\n",
       "      <td>0.366203</td>\n",
       "    </tr>\n",
       "  </tbody>\n",
       "</table>\n",
       "</div>"
      ],
      "text/plain": [
       "   word  appears_in  count  rank  pct_total  cul_pct_total  appears_in_pct\n",
       "59  the        3449  16460   1.0   0.045564       0.045564        0.452862\n",
       "17  and        3452  12725   2.0   0.035225       0.080789        0.453256\n",
       "9     a        3046  10225   3.0   0.028304       0.109093        0.399947\n",
       "3     i        2668   9181   4.0   0.025415       0.134508        0.350315\n",
       "10   to        2789   7945   5.0   0.021993       0.156501        0.366203"
      ]
     },
     "execution_count": 81,
     "metadata": {},
     "output_type": "execute_result"
    }
   ],
   "source": [
    "wc.head()"
   ]
  },
  {
   "cell_type": "code",
   "execution_count": 82,
   "metadata": {},
   "outputs": [
    {
     "data": {
      "image/png": "[encoded data removed]",
      "text/plain": [
       "<Figure size 432x288 with 1 Axes>"
      ]
     },
     "metadata": {
      "needs_background": "light"
     },
     "output_type": "display_data"
    }
   ],
   "source": [
    "import seaborn as sns\n",
    "\n",
    "#cumulative Distribution Plot\n",
    "sns.lineplot(x='rank', y='cul_pct_total', data=wc);"
   ]
  },
  {
   "cell_type": "code",
   "execution_count": 83,
   "metadata": {},
   "outputs": [
    {
     "data": {
      "text/plain": [
       "0.3158200692041523"
      ]
     },
     "execution_count": 83,
     "metadata": {},
     "output_type": "execute_result"
    }
   ],
   "source": [
    "wc[wc['rank'] <= 20]['cul_pct_total'].max()"
   ]
  },
  {
   "cell_type": "code",
   "execution_count": 84,
   "metadata": {},
   "outputs": [
    {
     "data": {
      "image/png": "[encoded data removed]",
      "text/plain": [
       "<Figure size 432x288 with 1 Axes>"
      ]
     },
     "metadata": {
      "needs_background": "light"
     },
     "output_type": "display_data"
    }
   ],
   "source": [
    "import squarify\n",
    "import matplotlib.pyplot as plt\n",
    "\n",
    "wc_top20 = wc[wc['rank'] <= 20]\n",
    "\n",
    "squarify.plot(sizes=wc_top20['pct_total'], label=wc_top20['word'], alpha=.8)\n",
    "plt.axis('off')\n",
    "plt.show()"
   ]
  },
  {
   "cell_type": "code",
   "execution_count": 94,
   "metadata": {},
   "outputs": [],
   "source": [
    "# Wrap it all in a function\n",
    "def get_lemmas(text):\n",
    "\n",
    "    lemmas = []\n",
    "    \n",
    "    doc = nlp(str(text))\n",
    "    \n",
    "    # Something goes here :P\n",
    "    for token in doc: \n",
    "        if ((token.is_stop == False) and (token.is_punct == False)) and (token.pos_!= 'PRON'):\n",
    "            lemmas.append(token.lemma_)\n",
    "    \n",
    "    return lemmas"
   ]
  },
  {
   "cell_type": "code",
   "execution_count": 95,
   "metadata": {},
   "outputs": [],
   "source": [
    "shops['lemmas'] = shops['full_review_text'].apply(get_lemmas)"
   ]
  },
  {
   "cell_type": "code",
   "execution_count": 96,
   "metadata": {},
   "outputs": [
    {
     "data": {
      "text/plain": [
       "0    [ , 1, check, love, love, love, atmosphere, co...\n",
       "1    [ , list, date, night, austin, ambiance, austi...\n",
       "2    [ , 1, check, list, brunch, spot, love, eclect...\n",
       "3    [ , cool, decor, good, drink, nice, seating,  ...\n",
       "4    [ , 1, check, locate, northcross, mall, shoppi...\n",
       "Name: lemmas, dtype: object"
      ]
     },
     "execution_count": 96,
     "metadata": {},
     "output_type": "execute_result"
    }
   ],
   "source": [
    "shops['lemmas'].head()"
   ]
  },
  {
   "cell_type": "code",
   "execution_count": 98,
   "metadata": {},
   "outputs": [
    {
     "data": {
      "image/png": "[encoded data removed]",
      "text/plain": [
       "<Figure size 432x288 with 1 Axes>"
      ]
     },
     "metadata": {
      "needs_background": "light"
     },
     "output_type": "display_data"
    }
   ],
   "source": [
    "wc = count(shops['lemmas'])\n",
    "wc_top20 = wc[wc['rank'] <= 20]\n",
    "\n",
    "squarify.plot(sizes=wc_top20['pct_total'], label=wc_top20['word'], alpha=.8 )\n",
    "plt.axis('off')\n",
    "plt.show()"
   ]
  },
  {
   "cell_type": "code",
   "execution_count": null,
   "metadata": {},
   "outputs": [],
   "source": [
    "## Can visualize the words with the greatest difference in counts between 'good' & 'bad'?\n",
    "\n",
    "Couple Notes: \n",
    "- Rel. freq. instead of absolute counts b/c of different numbers of reviews\n",
    "- Only look at the top 5-10 words with the greatest differences\n"
   ]
  },
  {
   "cell_type": "code",
   "execution_count": 99,
   "metadata": {},
   "outputs": [
    {
     "data": {
      "text/html": [
       "<div>\n",
       "<style scoped>\n",
       "    .dataframe tbody tr th:only-of-type {\n",
       "        vertical-align: middle;\n",
       "    }\n",
       "\n",
       "    .dataframe tbody tr th {\n",
       "        vertical-align: top;\n",
       "    }\n",
       "\n",
       "    .dataframe thead th {\n",
       "        text-align: right;\n",
       "    }\n",
       "</style>\n",
       "<table border=\"1\" class=\"dataframe\">\n",
       "  <thead>\n",
       "    <tr style=\"text-align: right;\">\n",
       "      <th></th>\n",
       "      <th>word</th>\n",
       "      <th>appears_in</th>\n",
       "      <th>count</th>\n",
       "      <th>rank</th>\n",
       "      <th>pct_total</th>\n",
       "      <th>cul_pct_total</th>\n",
       "      <th>appears_in_pct</th>\n",
       "    </tr>\n",
       "  </thead>\n",
       "  <tbody>\n",
       "    <tr>\n",
       "      <th>14</th>\n",
       "      <td></td>\n",
       "      <td>3918</td>\n",
       "      <td>9902</td>\n",
       "      <td>1.0</td>\n",
       "      <td>0.056012</td>\n",
       "      <td>0.056012</td>\n",
       "      <td>0.514443</td>\n",
       "    </tr>\n",
       "    <tr>\n",
       "      <th>39</th>\n",
       "      <td>coffee</td>\n",
       "      <td>2366</td>\n",
       "      <td>4691</td>\n",
       "      <td>2.0</td>\n",
       "      <td>0.026535</td>\n",
       "      <td>0.082548</td>\n",
       "      <td>0.310662</td>\n",
       "    </tr>\n",
       "    <tr>\n",
       "      <th>80</th>\n",
       "      <td>place</td>\n",
       "      <td>1970</td>\n",
       "      <td>2993</td>\n",
       "      <td>3.0</td>\n",
       "      <td>0.016930</td>\n",
       "      <td>0.099478</td>\n",
       "      <td>0.258666</td>\n",
       "    </tr>\n",
       "    <tr>\n",
       "      <th>155</th>\n",
       "      <td>good</td>\n",
       "      <td>1793</td>\n",
       "      <td>2629</td>\n",
       "      <td>4.0</td>\n",
       "      <td>0.014871</td>\n",
       "      <td>0.114349</td>\n",
       "      <td>0.235425</td>\n",
       "    </tr>\n",
       "    <tr>\n",
       "      <th>85</th>\n",
       "      <td>great</td>\n",
       "      <td>1391</td>\n",
       "      <td>1929</td>\n",
       "      <td>5.0</td>\n",
       "      <td>0.010912</td>\n",
       "      <td>0.125261</td>\n",
       "      <td>0.182642</td>\n",
       "    </tr>\n",
       "    <tr>\n",
       "      <th>31</th>\n",
       "      <td>check</td>\n",
       "      <td>1477</td>\n",
       "      <td>1597</td>\n",
       "      <td>6.0</td>\n",
       "      <td>0.009034</td>\n",
       "      <td>0.134295</td>\n",
       "      <td>0.193934</td>\n",
       "    </tr>\n",
       "    <tr>\n",
       "      <th>165</th>\n",
       "      <td>like</td>\n",
       "      <td>1025</td>\n",
       "      <td>1476</td>\n",
       "      <td>7.0</td>\n",
       "      <td>0.008349</td>\n",
       "      <td>0.142644</td>\n",
       "      <td>0.134585</td>\n",
       "    </tr>\n",
       "    <tr>\n",
       "      <th>406</th>\n",
       "      <td>come</td>\n",
       "      <td>994</td>\n",
       "      <td>1347</td>\n",
       "      <td>8.0</td>\n",
       "      <td>0.007620</td>\n",
       "      <td>0.150263</td>\n",
       "      <td>0.130515</td>\n",
       "    </tr>\n",
       "    <tr>\n",
       "      <th>36</th>\n",
       "      <td>love</td>\n",
       "      <td>909</td>\n",
       "      <td>1170</td>\n",
       "      <td>9.0</td>\n",
       "      <td>0.006618</td>\n",
       "      <td>0.156882</td>\n",
       "      <td>0.119354</td>\n",
       "    </tr>\n",
       "    <tr>\n",
       "      <th>5</th>\n",
       "      <td>order</td>\n",
       "      <td>763</td>\n",
       "      <td>1159</td>\n",
       "      <td>10.0</td>\n",
       "      <td>0.006556</td>\n",
       "      <td>0.163438</td>\n",
       "      <td>0.100184</td>\n",
       "    </tr>\n",
       "    <tr>\n",
       "      <th>474</th>\n",
       "      <td>time</td>\n",
       "      <td>853</td>\n",
       "      <td>1143</td>\n",
       "      <td>11.0</td>\n",
       "      <td>0.006466</td>\n",
       "      <td>0.169903</td>\n",
       "      <td>0.112001</td>\n",
       "    </tr>\n",
       "    <tr>\n",
       "      <th>19</th>\n",
       "      <td>drink</td>\n",
       "      <td>817</td>\n",
       "      <td>1134</td>\n",
       "      <td>12.0</td>\n",
       "      <td>0.006415</td>\n",
       "      <td>0.176318</td>\n",
       "      <td>0.107274</td>\n",
       "    </tr>\n",
       "    <tr>\n",
       "      <th>47</th>\n",
       "      <td>austin</td>\n",
       "      <td>889</td>\n",
       "      <td>1120</td>\n",
       "      <td>13.0</td>\n",
       "      <td>0.006335</td>\n",
       "      <td>0.182653</td>\n",
       "      <td>0.116728</td>\n",
       "    </tr>\n",
       "    <tr>\n",
       "      <th>37</th>\n",
       "      <td>1</td>\n",
       "      <td>1064</td>\n",
       "      <td>1112</td>\n",
       "      <td>14.0</td>\n",
       "      <td>0.006290</td>\n",
       "      <td>0.188944</td>\n",
       "      <td>0.139706</td>\n",
       "    </tr>\n",
       "    <tr>\n",
       "      <th>120</th>\n",
       "      <td>try</td>\n",
       "      <td>827</td>\n",
       "      <td>1063</td>\n",
       "      <td>15.0</td>\n",
       "      <td>0.006013</td>\n",
       "      <td>0.194957</td>\n",
       "      <td>0.108587</td>\n",
       "    </tr>\n",
       "    <tr>\n",
       "      <th>11</th>\n",
       "      <td>shop</td>\n",
       "      <td>768</td>\n",
       "      <td>1010</td>\n",
       "      <td>16.0</td>\n",
       "      <td>0.005713</td>\n",
       "      <td>0.200670</td>\n",
       "      <td>0.100840</td>\n",
       "    </tr>\n",
       "    <tr>\n",
       "      <th>301</th>\n",
       "      <td>food</td>\n",
       "      <td>723</td>\n",
       "      <td>1009</td>\n",
       "      <td>17.0</td>\n",
       "      <td>0.005708</td>\n",
       "      <td>0.206377</td>\n",
       "      <td>0.094932</td>\n",
       "    </tr>\n",
       "    <tr>\n",
       "      <th>21</th>\n",
       "      <td>latte</td>\n",
       "      <td>628</td>\n",
       "      <td>941</td>\n",
       "      <td>18.0</td>\n",
       "      <td>0.005323</td>\n",
       "      <td>0.211700</td>\n",
       "      <td>0.082458</td>\n",
       "    </tr>\n",
       "    <tr>\n",
       "      <th>1</th>\n",
       "      <td>get</td>\n",
       "      <td>710</td>\n",
       "      <td>931</td>\n",
       "      <td>19.0</td>\n",
       "      <td>0.005266</td>\n",
       "      <td>0.216967</td>\n",
       "      <td>0.093225</td>\n",
       "    </tr>\n",
       "    <tr>\n",
       "      <th>602</th>\n",
       "      <td>work</td>\n",
       "      <td>688</td>\n",
       "      <td>868</td>\n",
       "      <td>20.0</td>\n",
       "      <td>0.004910</td>\n",
       "      <td>0.221877</td>\n",
       "      <td>0.090336</td>\n",
       "    </tr>\n",
       "  </tbody>\n",
       "</table>\n",
       "</div>"
      ],
      "text/plain": [
       "       word  appears_in  count  rank  pct_total  cul_pct_total  appears_in_pct\n",
       "14                 3918   9902   1.0   0.056012       0.056012        0.514443\n",
       "39   coffee        2366   4691   2.0   0.026535       0.082548        0.310662\n",
       "80    place        1970   2993   3.0   0.016930       0.099478        0.258666\n",
       "155    good        1793   2629   4.0   0.014871       0.114349        0.235425\n",
       "85    great        1391   1929   5.0   0.010912       0.125261        0.182642\n",
       "31    check        1477   1597   6.0   0.009034       0.134295        0.193934\n",
       "165    like        1025   1476   7.0   0.008349       0.142644        0.134585\n",
       "406    come         994   1347   8.0   0.007620       0.150263        0.130515\n",
       "36     love         909   1170   9.0   0.006618       0.156882        0.119354\n",
       "5     order         763   1159  10.0   0.006556       0.163438        0.100184\n",
       "474    time         853   1143  11.0   0.006466       0.169903        0.112001\n",
       "19    drink         817   1134  12.0   0.006415       0.176318        0.107274\n",
       "47   austin         889   1120  13.0   0.006335       0.182653        0.116728\n",
       "37        1        1064   1112  14.0   0.006290       0.188944        0.139706\n",
       "120     try         827   1063  15.0   0.006013       0.194957        0.108587\n",
       "11     shop         768   1010  16.0   0.005713       0.200670        0.100840\n",
       "301    food         723   1009  17.0   0.005708       0.206377        0.094932\n",
       "21    latte         628    941  18.0   0.005323       0.211700        0.082458\n",
       "1       get         710    931  19.0   0.005266       0.216967        0.093225\n",
       "602    work         688    868  20.0   0.004910       0.221877        0.090336"
      ]
     },
     "execution_count": 99,
     "metadata": {},
     "output_type": "execute_result"
    }
   ],
   "source": [
    "wc_top20"
   ]
  },
  {
   "cell_type": "code",
   "execution_count": 106,
   "metadata": {},
   "outputs": [
    {
     "data": {
      "text/plain": [
       "array([' ', 'coffee', 'place', 'good', 'great', 'check', 'like', 'come',\n",
       "       'love', 'order', 'time', 'drink', 'austin', '1', 'try', 'shop',\n",
       "       'food', 'latte', 'get', 'work'], dtype=object)"
      ]
     },
     "execution_count": 106,
     "metadata": {},
     "output_type": "execute_result"
    }
   ],
   "source": [
    "wc_top20.word.values"
   ]
  },
  {
   "cell_type": "markdown",
   "metadata": {
    "colab_type": "text",
    "id": "1dCb1q8XphcP",
    "toc-hr-collapsed": true
   },
   "source": [
    "## Stretch Goals\n",
    "\n",
    "* Analyze another corpus of documents - such as Indeed.com job listings ;).\n",
    "* Play with the Spacy API to\n",
    " - Extract Named Entities\n",
    " - Extracting 'noun chunks'\n",
    " - Attempt Document Classification with just Spacy\n",
    " - *Note:* This [course](https://course.spacy.io/) will be of interesting in helping you with these stretch goals. \n",
    "* Try to build a plotly dash app with your text data \n",
    "\n"
   ]
  }
 ],
 "metadata": {
  "colab": {
   "collapsed_sections": [],
   "name": "LS_DS_421_Text_Data_Assignment.ipynb",
   "provenance": [],
   "version": "0.3.2"
  },
  "kernelspec": {
   "display_name": "U4-S1-NLP-DS9 (python 3.7)",
   "language": "python",
   "name": "u4-s1-nlp-ds9"
  },
  "language_info": {
   "codemirror_mode": {
    "name": "ipython",
    "version": 3
   },
   "file_extension": ".py",
   "mimetype": "text/x-python",
   "name": "python",
   "nbconvert_exporter": "python",
   "pygments_lexer": "ipython3",
   "version": "3.7.0"
  },
  "toc-autonumbering": false
 },
 "nbformat": 4,
 "nbformat_minor": 4
}
